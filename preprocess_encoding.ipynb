{
 "cells": [
  {
   "cell_type": "code",
   "execution_count": null,
   "id": "803c066f",
   "metadata": {},
   "outputs": [],
   "source": [
    "import pandas as pd\n",
    "import numpy as np\n",
    "import torch\n",
    "from sentence_transformers import SentenceTransformer\n",
    "model = SentenceTransformer('all-mpnet-base-v2')"
   ]
  },
  {
   "cell_type": "code",
   "execution_count": null,
   "id": "74fcd640",
   "metadata": {},
   "outputs": [],
   "source": [
    "# read recipe data\n",
    "recipes_frame = pd.read_csv('data/recipes_info.csv')\n",
    "recipes_frame.head()"
   ]
  },
  {
   "cell_type": "code",
   "execution_count": null,
   "id": "267bd551",
   "metadata": {},
   "outputs": [],
   "source": [
    "# sort recipes by id\n",
    "recipes_frame = recipes_frame.sort_values('id')\n",
    "recipes_frame.head()"
   ]
  },
  {
   "cell_type": "code",
   "execution_count": null,
   "id": "f6308ecf",
   "metadata": {
    "scrolled": true
   },
   "outputs": [],
   "source": [
    "# drop columns not used\n",
    "recipes_frame = recipes_frame.drop(['contributor_id', 'submitted'], axis=1)\n",
    "recipes_frame.head()"
   ]
  },
  {
   "cell_type": "code",
   "execution_count": null,
   "id": "05dd7501",
   "metadata": {},
   "outputs": [],
   "source": [
    "# encode name\n",
    "name_encoding = model.encode(recipes_frame['name'].to_list())\n",
    "torch.save(torch.Tensor(name_encoding), 'processed/name_encoding.pt')"
   ]
  },
  {
   "cell_type": "code",
   "execution_count": null,
   "id": "2c65d937",
   "metadata": {},
   "outputs": [],
   "source": [
    "# encode step\n",
    "steps_frame = recipes_frame['steps'].apply(lambda x: x.replace(\"'\", '').replace('[', '').replace(']', ''))\n",
    "steps_encoding = model.encode(steps_frame.to_list())\n",
    "torch.save(torch.Tensor(name_encoding), 'processed/steps_encoding.pt')"
   ]
  },
  {
   "cell_type": "code",
   "execution_count": null,
   "id": "aaf539e4",
   "metadata": {},
   "outputs": [],
   "source": [
    "# encode ingredient\n",
    "ingredients_frame = recipes_frame['ingredients'].apply(lambda x: x.replace(\"'\", '').replace('[', '').replace(']', ''))\n",
    "ingredients_encoding = model.encode(ingredients_frame.to_list())\n",
    "torch.save(torch.Tensor(ingredients_encoding), 'processed/ingredients_encoding.pt')"
   ]
  },
  {
   "cell_type": "code",
   "execution_count": null,
   "id": "3553aaf0",
   "metadata": {},
   "outputs": [],
   "source": [
    "# encode description\n",
    "def clean_empty(data):\n",
    "    if data is float('nan'):\n",
    "        return ''\n",
    "    return str(data)\n",
    "\n",
    "desc_frame = recipes_frame['description'].apply(clean_empty)\n",
    "desc_encoding = model.encode(desc_frame.to_list())\n",
    "torch.save(torch.Tensor(desc_encoding), 'processed/desc_encoding.pt')"
   ]
  },
  {
   "cell_type": "code",
   "execution_count": null,
   "id": "6d66dfba",
   "metadata": {},
   "outputs": [],
   "source": [
    "# encode tag\n",
    "tags_frame = recipes_frame['tags'].apply(lambda x: '|'.join(eval(x)))\n",
    "tags_encoding = tags_frame.str.get_dummies().values\n",
    "torch.save(torch.Tensor(tags_encoding), 'processed/tags_encoding.pt')"
   ]
  },
  {
   "cell_type": "code",
   "execution_count": null,
   "id": "2a0a88d3",
   "metadata": {},
   "outputs": [],
   "source": [
    "# encode nutrition\n",
    "nutrition_frame = recipes_frame['nutrition'].apply(lambda x: eval(x))\n",
    "torch.save(torch.Tensor(nutrition_frame.to_list()), 'processed/nutrition_encoding.pt')"
   ]
  },
  {
   "cell_type": "code",
   "execution_count": null,
   "id": "9e38340e",
   "metadata": {},
   "outputs": [],
   "source": [
    "def clean_numeric(data):\n",
    "    if data is float('nan'):\n",
    "        return 0\n",
    "    try:\n",
    "        return float(data)\n",
    "    except Exception as _:\n",
    "        return 0\n",
    "\n",
    "# minutes, n_steps, n_ingredients\n",
    "minutes_frame = recipes_frame['minutes'].apply(clean_numeric)\n",
    "n_steps_frame = recipes_frame['n_steps'].apply(clean_numeric)\n",
    "n_ingredients_frame = recipes_frame['n_ingredients'].apply(clean_numeric)\n",
    "\n",
    "torch.save(torch.cat([torch.Tensor(minutes_frame.to_list()).unsqueeze_(1),\n",
    "            torch.Tensor(n_steps_frame.to_list()).unsqueeze_(1),\n",
    "            torch.Tensor(n_ingredients_frame.to_list()).unsqueeze_(1)], axis=1), 'processed/hardcode_encoding.pt')"
   ]
  },
  {
   "cell_type": "code",
   "execution_count": null,
   "id": "2e0f4e48",
   "metadata": {},
   "outputs": [],
   "source": [
    "# calculate mapping\n",
    "id_list = recipes_frame['id'].to_list()\n",
    "mapping_dict = {}\n",
    "for i in range(len(id_list)):\n",
    "    mapping_dict[id_list[i]] = i"
   ]
  },
  {
   "cell_type": "code",
   "execution_count": null,
   "id": "3825f6f7",
   "metadata": {},
   "outputs": [],
   "source": [
    "# remap training\n",
    "train_df = pd.read_csv('data/train.csv')\n",
    "train_df = train_df.sort_values(by=['user_id', 'date'])\n",
    "train_df['recipe_id'] = train_df['recipe_id'].apply(lambda x: mapping_dict[int(x)])\n",
    "train_df.to_csv('processed/train_discretization.csv', index=False)"
   ]
  },
  {
   "cell_type": "code",
   "execution_count": null,
   "id": "eee2963d",
   "metadata": {},
   "outputs": [],
   "source": [
    "from datetime import datetime\n",
    "# remap testing\n",
    "test_df = pd.read_csv('data/test.csv')\n",
    "test_df['date'] = test_df['date'].apply(lambda x: datetime.strftime(datetime.strptime(x, '%d/%m/%Y'), '%Y-%m-%d'))\n",
    "# test_df = test_df.sort_values(by=['user_id', 'date'])\n",
    "test_df['recipe_id'] = test_df['recipe_id'].apply(lambda x: mapping_dict[int(x)])\n",
    "test_df.to_csv('processed/test_discretization.csv', index=False)"
   ]
  },
  {
   "cell_type": "code",
   "execution_count": null,
   "id": "d0023c7d",
   "metadata": {},
   "outputs": [],
   "source": [
    "# calculate user count\n",
    "len(list(set(train_df['user_id'].to_list())))"
   ]
  },
  {
   "cell_type": "code",
   "execution_count": null,
   "id": "9ba39b8a",
   "metadata": {},
   "outputs": [],
   "source": [
    "# top rating count for all users\n",
    "from collections import Counter\n",
    "sorted(Counter(train_df['user_id'].to_list()).items(), key=lambda t: t[1], reverse=True)[:10]"
   ]
  }
 ],
 "metadata": {
  "interpreter": {
   "hash": "c2c5a749947c1039286a45b254bcaf92fb099812a553a87dc66e9d926a170f86"
  },
  "kernelspec": {
   "display_name": "Python 3.9.0 64-bit",
   "language": "python",
   "name": "python3"
  },
  "language_info": {
   "codemirror_mode": {
    "name": "ipython",
    "version": 3
   },
   "file_extension": ".py",
   "mimetype": "text/x-python",
   "name": "python",
   "nbconvert_exporter": "python",
   "pygments_lexer": "ipython3",
   "version": "3.9.0"
  }
 },
 "nbformat": 4,
 "nbformat_minor": 5
}
